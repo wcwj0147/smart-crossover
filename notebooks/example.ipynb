{
 "cells": [
  {
   "cell_type": "code",
   "execution_count": null,
   "id": "f5165d1d-57ab-4478-a720-ccf3e4153fd8",
   "metadata": {},
   "outputs": [],
   "source": [
    "import sys\n",
    "sys.path.append(\"../src\")"
   ]
  },
  {
   "cell_type": "code",
   "execution_count": null,
   "id": "3b08ced6-4ca8-4133-b21c-4686519f4e71",
   "metadata": {},
   "outputs": [],
   "source": [
    "from smart_crossover.solver_caller.caller import SolverSettings\n",
    "from smart_crossover.solver_caller.solving import generate_solver_caller, solve_mcf, solve_ot\n",
    "from smart_crossover.lp_methods.algorithms import run_perturb_algorithm\n",
    "from smart_crossover.network_methods.algorithms import network_crossover"
   ]
  },
  {
   "cell_type": "markdown",
   "id": "2eb42337-c40d-4d42-b635-d3e41f3221f0",
   "metadata": {},
   "source": [
    "# General LP"
   ]
  },
  {
   "cell_type": "markdown",
   "id": "924e4295-0c2f-4859-a3ea-ddcc281601a5",
   "metadata": {},
   "source": [
    "Use perturbation crossover."
   ]
  },
  {
   "cell_type": "markdown",
   "id": "b74d2235-12bf-4ee2-910f-9c00f3181c44",
   "metadata": {},
   "source": [
    " ### Set the path of target problem\n",
    "\n",
    "You can download test instances, for example `datt256_lp` from [here](https://plato.asu.edu/ftp/lptestset/)."
   ]
  },
  {
   "cell_type": "code",
   "execution_count": null,
   "id": "32d756c0-ccc8-42fb-a31e-fb14e1cc719c",
   "metadata": {},
   "outputs": [],
   "source": [
    "file_path = \"datt256_lp.mps\""
   ]
  },
  {
   "cell_type": "markdown",
   "id": "a09e1a3c-c3d8-4422-8a90-a5f51bc93726",
   "metadata": {},
   "source": [
    "### Read from \".mps\" file"
   ]
  },
  {
   "cell_type": "code",
   "execution_count": null,
   "id": "64374559-aec9-4b0a-b21d-b4cb2672ec70",
   "metadata": {},
   "outputs": [],
   "source": [
    "caller = generate_solver_caller(\"GRB\")"
   ]
  },
  {
   "cell_type": "code",
   "execution_count": null,
   "id": "24ac27e2-a9d0-4f0d-a857-ce2458ce98c1",
   "metadata": {},
   "outputs": [],
   "source": [
    "caller.read_model_from_file(file_path)"
   ]
  },
  {
   "cell_type": "markdown",
   "id": "04930cbf-5376-4fde-bb4f-ebb50f36670d",
   "metadata": {},
   "source": [
    "### Solve the problem with Gurobi's barrier + crossover"
   ]
  },
  {
   "cell_type": "code",
   "execution_count": null,
   "id": "3457ba6e-4e9a-42a4-b303-30f591cbfcb0",
   "metadata": {
    "tags": []
   },
   "outputs": [],
   "source": [
    "output1 = caller.run_barrier()"
   ]
  },
  {
   "cell_type": "markdown",
   "id": "b28db298-845a-4cc5-be62-b8475fa16715",
   "metadata": {},
   "source": [
    "### Solve the problem with perturbation crossover"
   ]
  },
  {
   "cell_type": "code",
   "execution_count": null,
   "id": "fb908475-01dc-406f-90f4-0ae407b358fa",
   "metadata": {
    "tags": []
   },
   "outputs": [],
   "source": [
    "output2 = run_perturb_algorithm(caller.return_genlp())"
   ]
  },
  {
   "cell_type": "markdown",
   "id": "5922f023-caa9-4e19-b53d-460f0f5d2c22",
   "metadata": {},
   "source": [
    "---"
   ]
  },
  {
   "cell_type": "markdown",
   "id": "aca618fe-7825-4a1f-baa0-c8e8ea626c29",
   "metadata": {},
   "source": [
    "# LP with Network Structures"
   ]
  },
  {
   "cell_type": "markdown",
   "id": "1dbbb0d1-5fbd-4844-82fb-4664490c5d28",
   "metadata": {},
   "source": [
    "Using TNET/CNET for optimal transport problems,\n",
    "and CNET for general minimum cost flow problems."
   ]
  },
  {
   "cell_type": "markdown",
   "id": "5794fc10-55f3-46b2-b745-90dd3a82a246",
   "metadata": {},
   "source": [
    "### Read from \".mps\" file or create a MCF/OT instance (see `format.py`)\n",
    "\n",
    "You can download network LP benchmark instances [here](https://plato.asu.edu/ftp/lptestset/network/)."
   ]
  },
  {
   "cell_type": "code",
   "execution_count": null,
   "id": "c428545e-be92-4eb5-9168-6f0d11c5eb15",
   "metadata": {},
   "outputs": [],
   "source": [
    "file_path = \"16_n14.mps\""
   ]
  },
  {
   "cell_type": "code",
   "execution_count": null,
   "id": "34114f19-4dad-46d4-9938-2704586f4447",
   "metadata": {},
   "outputs": [],
   "source": [
    "caller = generate_solver_caller(\"GRB\")"
   ]
  },
  {
   "cell_type": "code",
   "execution_count": null,
   "id": "2957ff0a-b77e-4051-8f0a-4c39e7bce5ee",
   "metadata": {},
   "outputs": [],
   "source": [
    "caller.read_model_from_file(file_path)"
   ]
  },
  {
   "cell_type": "code",
   "execution_count": null,
   "id": "95ac5c41-7233-45aa-b2ee-1812e7a74291",
   "metadata": {},
   "outputs": [],
   "source": [
    "mcf = caller.return_mcf()"
   ]
  },
  {
   "cell_type": "code",
   "execution_count": null,
   "id": "cbef6a93-6ed0-4c15-961b-d7f219c9c4fb",
   "metadata": {
    "tags": []
   },
   "outputs": [],
   "source": [
    "barrier_output = solve_mcf(mcf, method='barrier', settings=SolverSettings(crossover='on', barrierTol=1e-2))"
   ]
  },
  {
   "cell_type": "code",
   "execution_count": null,
   "id": "0338c1cd-8122-4027-b881-5ee1c8df4aae",
   "metadata": {},
   "outputs": [],
   "source": [
    "cnet_output = network_crossover(x=barrier_output.x_bar, mcf=mcf, method='cnet_mcf', solver='GRB')"
   ]
  },
  {
   "cell_type": "markdown",
   "id": "1feff58a-a65a-4e59-a7e6-57abdafd9a03",
   "metadata": {},
   "source": [
    "Note that for the above `x` attribute, instead of starting from the solution from Gurobi's barrier algorithm, we can choose any inaccurate solution from a first order method."
   ]
  }
 ],
 "metadata": {
  "kernelspec": {
   "display_name": "smart_crossover",
   "language": "python",
   "name": "smart_crossover"
  },
  "language_info": {
   "codemirror_mode": {
    "name": "ipython",
    "version": 3
   },
   "file_extension": ".py",
   "mimetype": "text/x-python",
   "name": "python",
   "nbconvert_exporter": "python",
   "pygments_lexer": "ipython3",
   "version": "3.7.16"
  }
 },
 "nbformat": 4,
 "nbformat_minor": 5
}
